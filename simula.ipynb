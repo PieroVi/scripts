{
  "nbformat": 4,
  "nbformat_minor": 0,
  "metadata": {
    "colab": {
      "name": "simula.ipynb",
      "provenance": [],
      "collapsed_sections": [],
      "toc_visible": true,
      "authorship_tag": "ABX9TyOg6tjQ9wL2hiftI6OKjN4U",
      "include_colab_link": true
    },
    "kernelspec": {
      "display_name": "Python 3",
      "name": "python3"
    }
  },
  "cells": [
    {
      "cell_type": "markdown",
      "metadata": {
        "id": "view-in-github",
        "colab_type": "text"
      },
      "source": [
        "<a href=\"https://colab.research.google.com/github/W8andHope/scripts/blob/main/simula.ipynb\" target=\"_parent\"><img src=\"https://colab.research.google.com/assets/colab-badge.svg\" alt=\"Open In Colab\"/></a>"
      ]
    },
    {
      "cell_type": "code",
      "metadata": {
        "id": "cg8M2d0NTngF"
      },
      "source": [
        "import math\r\n",
        "import time\r\n",
        "import numpy as np\r\n",
        "import pandas as pd\r\n",
        "from matplotlib import pyplot as plt\r\n",
        "import scipy.stats as st \r\n",
        "import random"
      ],
      "execution_count": null,
      "outputs": []
    },
    {
      "cell_type": "code",
      "metadata": {
        "id": "XQQWgjW1vVbV"
      },
      "source": [
        "def current_milli_time():\r\n",
        "    return round(time.thread_time() * 10000)"
      ],
      "execution_count": null,
      "outputs": []
    },
    {
      "cell_type": "code",
      "metadata": {
        "id": "dw5aFFzpuW3b"
      },
      "source": [
        "n = 1000\r\n",
        "values = []\r\n",
        "#la semilla será dinámica, se usa el tiempo del sistema local \r\n",
        "#multiplicado por un número aleatorio de la librería random\r\n",
        "ini = round(current_milli_time() * random.random())\r\n",
        "\r\n",
        "#definimos la función del GLC\r\n",
        "def glc(modulus, a, c, seed):\r\n",
        "      global i \r\n",
        "      i = 0\r\n",
        "      while i < n: \r\n",
        "        seed = (a * seed + c) % modulus\r\n",
        "        values.append(round(seed/(modulus-1),6))\r\n",
        "        i += 1\r\n",
        "\r\n",
        "#introducimos los valores iniciales\r\n",
        "glc(2**32,1103515245,12345,ini)\r\n",
        "print(\"Números pseduoaleatorios: \",values)\r\n",
        "\r\n",
        "#guardado de data en archivos .csv y .txt\r\n",
        "name=str(ini)\r\n",
        "df = pd.DataFrame({'':values}) \r\n",
        "df.to_csv('numeros.csv', index=False,sep=';',decimal='.')\r\n",
        "df.to_csv('numeros.txt', index=False,sep=';',decimal='.')\r\n",
        "\r\n",
        "#ploteo\r\n",
        "plt.figure(figsize=(16,9))\r\n",
        "plt.plot(range(500),values[0:500], marker=\".\", color=\"blue\")\r\n",
        "plt.show()"
      ],
      "execution_count": null,
      "outputs": []
    },
    {
      "cell_type": "code",
      "metadata": {
        "id": "AbxtA00VZXk9"
      },
      "source": [
        "#Minigenerador usando los mismo parámetros, este lo usaremos para la simulación\r\n",
        "def mglc ():\r\n",
        "  global a, c, modulus, seed\r\n",
        "  seed = round(current_milli_time() * random.random())\r\n",
        "  a = 1103515245\r\n",
        "  c = 12345\r\n",
        "  modulus = 2**32\r\n",
        "  seed = (a * seed + c) % modulus\r\n",
        "  return round(seed/(modulus-1),6)"
      ],
      "execution_count": null,
      "outputs": []
    },
    {
      "cell_type": "code",
      "metadata": {
        "id": "fUgujx1way_f"
      },
      "source": [
        "def simulacion(n):\r\n",
        "  global sum1, sum2, p1, p2\r\n",
        "  sum1 = 0\r\n",
        "  sum2 = 0\r\n",
        "  ncaja = 0\r\n",
        "  cajas = list( {} for ncaja in range(n))\r\n",
        "  while ncaja < n:\r\n",
        "      #primer evento: selección de caja a inspeccionar\r\n",
        "      r=mglc()\r\n",
        "      if (r<=0.3):\r\n",
        "        cajas[ncaja][\"estado_caja\"] = 1\r\n",
        "      else:\r\n",
        "        cajas[ncaja][\"estado_caja\"] = 0\r\n",
        "\r\n",
        "      #segundo evento: cantidad de productos seleccionados a inspeccionar\r\n",
        "      r=mglc()\r\n",
        "      if (cajas[ncaja][\"estado_caja\"]==0):\r\n",
        "        cajas[ncaja][\"productos_seleccionados\"]=0\r\n",
        "      else: \r\n",
        "        if (r>0.8):\r\n",
        "          cajas[ncaja][\"productos_seleccionados\"]=3\r\n",
        "        else: \r\n",
        "          if (r>0.5):\r\n",
        "            cajas[ncaja][\"productos_seleccionados\"]=2\r\n",
        "          else:\r\n",
        "            cajas[ncaja][\"productos_seleccionados\"]=1\r\n",
        "      #tercer evento: estado de los productos de la caja\r\n",
        "      r=mglc()\r\n",
        "      if (r<=0.03):\r\n",
        "        cajas[ncaja][\"estado_producto\"] = 1\r\n",
        "      else:\r\n",
        "        cajas[ncaja][\"estado_producto\"] = 0\r\n",
        "\r\n",
        "      #cuarto evento: inspección de productos seleccionados : productos defectuosos encontrados\r\n",
        "      r=mglc()\r\n",
        "      if (cajas[ncaja][\"estado_caja\"]==0):\r\n",
        "        cajas[ncaja][\"productos_defectuosos_encontrados\"] = 0\r\n",
        "      else:\r\n",
        "        if (cajas[ncaja][\"estado_producto\"] == 0):\r\n",
        "          cajas[ncaja][\"productos_defectuosos_encontrados\"] = 0\r\n",
        "        else: \r\n",
        "          if (r<=(cajas[ncaja][\"productos_seleccionados\"]*0.1)):\r\n",
        "            cajas[ncaja][\"productos_defectuosos_encontrados\"] = 1\r\n",
        "          else:\r\n",
        "            cajas[ncaja][\"productos_defectuosos_encontrados\"] = 0\r\n",
        "      sum1 = sum1 + cajas[ncaja][\"productos_defectuosos_encontrados\"]\r\n",
        "\r\n",
        "      #cuarto evento: inspección de productos seleccionados : productos defectuosos no encontrados\r\n",
        "      if (cajas[ncaja][\"estado_producto\"]==0):\r\n",
        "        cajas[ncaja][\"productos_defectuosos_no_encontrados\"] = 0\r\n",
        "      else:\r\n",
        "        if (cajas[ncaja][\"estado_caja\"] == 0):\r\n",
        "          cajas[ncaja][\"productos_defectuosos_no_encontrados\"] = 1\r\n",
        "        else: \r\n",
        "          if (r<=(cajas[ncaja][\"productos_seleccionados\"]*0.1)):\r\n",
        "            cajas[ncaja][\"productos_defectuosos_no_encontrados\"] = 0\r\n",
        "          else:\r\n",
        "            cajas[ncaja][\"productos_defectuosos_no_encontrados\"] = 1\r\n",
        "      sum2 = sum2 + cajas[ncaja][\"productos_defectuosos_no_encontrados\"]\r\n",
        "\r\n",
        "      #mostrar cajas \r\n",
        "      print(\"CAJA\",ncaja+1,\":\",cajas[ncaja],\"\\n\")\r\n",
        "      ncaja += 1\r\n",
        "\r\n",
        "  p1 = sum1 / n\r\n",
        "  p2 = sum2 / n\r\n",
        "  print(\"Probabilidad de encontrar una caja con productos defectuosos en la inspección: \",p1,\"\\n\")\r\n",
        "  print(\"Probabilidad de que una caja con productos defectuosos pase la inspección: \",p2)   \r\n",
        "\r\n",
        "\r\n",
        "simulacion(1000)\r\n"
      ],
      "execution_count": null,
      "outputs": []
    }
  ]
}